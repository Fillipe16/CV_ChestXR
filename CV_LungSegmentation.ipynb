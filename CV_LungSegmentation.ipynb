{
  "nbformat": 4,
  "nbformat_minor": 0,
  "metadata": {
    "colab": {
      "provenance": [],
      "collapsed_sections": [
        "U7NH3Bs8XIWD"
      ],
      "mount_file_id": "128OkYOBFngz4ftsJ7K_0hnvHJoHHe21W",
      "authorship_tag": "ABX9TyPAypCzZH8hUd10nbWpS6iQ",
      "include_colab_link": true
    },
    "kernelspec": {
      "name": "python3",
      "display_name": "Python 3"
    },
    "language_info": {
      "name": "python"
    },
    "gpuClass": "standard",
    "widgets": {
      "application/vnd.jupyter.widget-state+json": {
        "9c4a3b5aa748473ca48a3ac840eb0846": {
          "model_module": "@jupyter-widgets/controls",
          "model_name": "HBoxModel",
          "model_module_version": "1.5.0",
          "state": {
            "_dom_classes": [],
            "_model_module": "@jupyter-widgets/controls",
            "_model_module_version": "1.5.0",
            "_model_name": "HBoxModel",
            "_view_count": null,
            "_view_module": "@jupyter-widgets/controls",
            "_view_module_version": "1.5.0",
            "_view_name": "HBoxView",
            "box_style": "",
            "children": [
              "IPY_MODEL_de8ae2583e16487aa6884e667d24fdf6",
              "IPY_MODEL_940adcc9b2794ad3ba01e6ca69fee162",
              "IPY_MODEL_022b643705154648a65851f0b4565f21"
            ],
            "layout": "IPY_MODEL_89b839aa348a425283d51cdccf9a6222"
          }
        },
        "de8ae2583e16487aa6884e667d24fdf6": {
          "model_module": "@jupyter-widgets/controls",
          "model_name": "HTMLModel",
          "model_module_version": "1.5.0",
          "state": {
            "_dom_classes": [],
            "_model_module": "@jupyter-widgets/controls",
            "_model_module_version": "1.5.0",
            "_model_name": "HTMLModel",
            "_view_count": null,
            "_view_module": "@jupyter-widgets/controls",
            "_view_module_version": "1.5.0",
            "_view_name": "HTMLView",
            "description": "",
            "description_tooltip": null,
            "layout": "IPY_MODEL_bc473ca5666c4e7c9b4fb160f223dc42",
            "placeholder": "​",
            "style": "IPY_MODEL_0b86bd3912424a098470986d23c4a52e",
            "value": "100%"
          }
        },
        "940adcc9b2794ad3ba01e6ca69fee162": {
          "model_module": "@jupyter-widgets/controls",
          "model_name": "FloatProgressModel",
          "model_module_version": "1.5.0",
          "state": {
            "_dom_classes": [],
            "_model_module": "@jupyter-widgets/controls",
            "_model_module_version": "1.5.0",
            "_model_name": "FloatProgressModel",
            "_view_count": null,
            "_view_module": "@jupyter-widgets/controls",
            "_view_module_version": "1.5.0",
            "_view_name": "ProgressView",
            "bar_style": "success",
            "description": "",
            "description_tooltip": null,
            "layout": "IPY_MODEL_28dc2b0f30e04fe0bcd2b14d003257f9",
            "max": 87306240,
            "min": 0,
            "orientation": "horizontal",
            "style": "IPY_MODEL_4b0d586b45434df09654730a454b75b5",
            "value": 87306240
          }
        },
        "022b643705154648a65851f0b4565f21": {
          "model_module": "@jupyter-widgets/controls",
          "model_name": "HTMLModel",
          "model_module_version": "1.5.0",
          "state": {
            "_dom_classes": [],
            "_model_module": "@jupyter-widgets/controls",
            "_model_module_version": "1.5.0",
            "_model_name": "HTMLModel",
            "_view_count": null,
            "_view_module": "@jupyter-widgets/controls",
            "_view_module_version": "1.5.0",
            "_view_name": "HTMLView",
            "description": "",
            "description_tooltip": null,
            "layout": "IPY_MODEL_6f8462745b624ed0b2ca8866e1929805",
            "placeholder": "​",
            "style": "IPY_MODEL_0b3628803d7947f79f0ddb4d4213a13d",
            "value": " 83.3M/83.3M [00:02&lt;00:00, 50.7MB/s]"
          }
        },
        "89b839aa348a425283d51cdccf9a6222": {
          "model_module": "@jupyter-widgets/base",
          "model_name": "LayoutModel",
          "model_module_version": "1.2.0",
          "state": {
            "_model_module": "@jupyter-widgets/base",
            "_model_module_version": "1.2.0",
            "_model_name": "LayoutModel",
            "_view_count": null,
            "_view_module": "@jupyter-widgets/base",
            "_view_module_version": "1.2.0",
            "_view_name": "LayoutView",
            "align_content": null,
            "align_items": null,
            "align_self": null,
            "border": null,
            "bottom": null,
            "display": null,
            "flex": null,
            "flex_flow": null,
            "grid_area": null,
            "grid_auto_columns": null,
            "grid_auto_flow": null,
            "grid_auto_rows": null,
            "grid_column": null,
            "grid_gap": null,
            "grid_row": null,
            "grid_template_areas": null,
            "grid_template_columns": null,
            "grid_template_rows": null,
            "height": null,
            "justify_content": null,
            "justify_items": null,
            "left": null,
            "margin": null,
            "max_height": null,
            "max_width": null,
            "min_height": null,
            "min_width": null,
            "object_fit": null,
            "object_position": null,
            "order": null,
            "overflow": null,
            "overflow_x": null,
            "overflow_y": null,
            "padding": null,
            "right": null,
            "top": null,
            "visibility": null,
            "width": null
          }
        },
        "bc473ca5666c4e7c9b4fb160f223dc42": {
          "model_module": "@jupyter-widgets/base",
          "model_name": "LayoutModel",
          "model_module_version": "1.2.0",
          "state": {
            "_model_module": "@jupyter-widgets/base",
            "_model_module_version": "1.2.0",
            "_model_name": "LayoutModel",
            "_view_count": null,
            "_view_module": "@jupyter-widgets/base",
            "_view_module_version": "1.2.0",
            "_view_name": "LayoutView",
            "align_content": null,
            "align_items": null,
            "align_self": null,
            "border": null,
            "bottom": null,
            "display": null,
            "flex": null,
            "flex_flow": null,
            "grid_area": null,
            "grid_auto_columns": null,
            "grid_auto_flow": null,
            "grid_auto_rows": null,
            "grid_column": null,
            "grid_gap": null,
            "grid_row": null,
            "grid_template_areas": null,
            "grid_template_columns": null,
            "grid_template_rows": null,
            "height": null,
            "justify_content": null,
            "justify_items": null,
            "left": null,
            "margin": null,
            "max_height": null,
            "max_width": null,
            "min_height": null,
            "min_width": null,
            "object_fit": null,
            "object_position": null,
            "order": null,
            "overflow": null,
            "overflow_x": null,
            "overflow_y": null,
            "padding": null,
            "right": null,
            "top": null,
            "visibility": null,
            "width": null
          }
        },
        "0b86bd3912424a098470986d23c4a52e": {
          "model_module": "@jupyter-widgets/controls",
          "model_name": "DescriptionStyleModel",
          "model_module_version": "1.5.0",
          "state": {
            "_model_module": "@jupyter-widgets/controls",
            "_model_module_version": "1.5.0",
            "_model_name": "DescriptionStyleModel",
            "_view_count": null,
            "_view_module": "@jupyter-widgets/base",
            "_view_module_version": "1.2.0",
            "_view_name": "StyleView",
            "description_width": ""
          }
        },
        "28dc2b0f30e04fe0bcd2b14d003257f9": {
          "model_module": "@jupyter-widgets/base",
          "model_name": "LayoutModel",
          "model_module_version": "1.2.0",
          "state": {
            "_model_module": "@jupyter-widgets/base",
            "_model_module_version": "1.2.0",
            "_model_name": "LayoutModel",
            "_view_count": null,
            "_view_module": "@jupyter-widgets/base",
            "_view_module_version": "1.2.0",
            "_view_name": "LayoutView",
            "align_content": null,
            "align_items": null,
            "align_self": null,
            "border": null,
            "bottom": null,
            "display": null,
            "flex": null,
            "flex_flow": null,
            "grid_area": null,
            "grid_auto_columns": null,
            "grid_auto_flow": null,
            "grid_auto_rows": null,
            "grid_column": null,
            "grid_gap": null,
            "grid_row": null,
            "grid_template_areas": null,
            "grid_template_columns": null,
            "grid_template_rows": null,
            "height": null,
            "justify_content": null,
            "justify_items": null,
            "left": null,
            "margin": null,
            "max_height": null,
            "max_width": null,
            "min_height": null,
            "min_width": null,
            "object_fit": null,
            "object_position": null,
            "order": null,
            "overflow": null,
            "overflow_x": null,
            "overflow_y": null,
            "padding": null,
            "right": null,
            "top": null,
            "visibility": null,
            "width": null
          }
        },
        "4b0d586b45434df09654730a454b75b5": {
          "model_module": "@jupyter-widgets/controls",
          "model_name": "ProgressStyleModel",
          "model_module_version": "1.5.0",
          "state": {
            "_model_module": "@jupyter-widgets/controls",
            "_model_module_version": "1.5.0",
            "_model_name": "ProgressStyleModel",
            "_view_count": null,
            "_view_module": "@jupyter-widgets/base",
            "_view_module_version": "1.2.0",
            "_view_name": "StyleView",
            "bar_color": null,
            "description_width": ""
          }
        },
        "6f8462745b624ed0b2ca8866e1929805": {
          "model_module": "@jupyter-widgets/base",
          "model_name": "LayoutModel",
          "model_module_version": "1.2.0",
          "state": {
            "_model_module": "@jupyter-widgets/base",
            "_model_module_version": "1.2.0",
            "_model_name": "LayoutModel",
            "_view_count": null,
            "_view_module": "@jupyter-widgets/base",
            "_view_module_version": "1.2.0",
            "_view_name": "LayoutView",
            "align_content": null,
            "align_items": null,
            "align_self": null,
            "border": null,
            "bottom": null,
            "display": null,
            "flex": null,
            "flex_flow": null,
            "grid_area": null,
            "grid_auto_columns": null,
            "grid_auto_flow": null,
            "grid_auto_rows": null,
            "grid_column": null,
            "grid_gap": null,
            "grid_row": null,
            "grid_template_areas": null,
            "grid_template_columns": null,
            "grid_template_rows": null,
            "height": null,
            "justify_content": null,
            "justify_items": null,
            "left": null,
            "margin": null,
            "max_height": null,
            "max_width": null,
            "min_height": null,
            "min_width": null,
            "object_fit": null,
            "object_position": null,
            "order": null,
            "overflow": null,
            "overflow_x": null,
            "overflow_y": null,
            "padding": null,
            "right": null,
            "top": null,
            "visibility": null,
            "width": null
          }
        },
        "0b3628803d7947f79f0ddb4d4213a13d": {
          "model_module": "@jupyter-widgets/controls",
          "model_name": "DescriptionStyleModel",
          "model_module_version": "1.5.0",
          "state": {
            "_model_module": "@jupyter-widgets/controls",
            "_model_module_version": "1.5.0",
            "_model_name": "DescriptionStyleModel",
            "_view_count": null,
            "_view_module": "@jupyter-widgets/base",
            "_view_module_version": "1.2.0",
            "_view_name": "StyleView",
            "description_width": ""
          }
        },
        "7f978218f6da4287be10edecb7f3894e": {
          "model_module": "@jupyter-widgets/controls",
          "model_name": "HBoxModel",
          "model_module_version": "1.5.0",
          "state": {
            "_dom_classes": [],
            "_model_module": "@jupyter-widgets/controls",
            "_model_module_version": "1.5.0",
            "_model_name": "HBoxModel",
            "_view_count": null,
            "_view_module": "@jupyter-widgets/controls",
            "_view_module_version": "1.5.0",
            "_view_name": "HBoxView",
            "box_style": "",
            "children": [
              "IPY_MODEL_565314a149c44f4bb716eaa0e91256a9",
              "IPY_MODEL_614bd64840a540db8c68a71c36989680",
              "IPY_MODEL_f4f87a1e08e64143aec773a0290b6459"
            ],
            "layout": "IPY_MODEL_d27b43588aad4de99f1f48f61ec49723"
          }
        },
        "565314a149c44f4bb716eaa0e91256a9": {
          "model_module": "@jupyter-widgets/controls",
          "model_name": "HTMLModel",
          "model_module_version": "1.5.0",
          "state": {
            "_dom_classes": [],
            "_model_module": "@jupyter-widgets/controls",
            "_model_module_version": "1.5.0",
            "_model_name": "HTMLModel",
            "_view_count": null,
            "_view_module": "@jupyter-widgets/controls",
            "_view_module_version": "1.5.0",
            "_view_name": "HTMLView",
            "description": "",
            "description_tooltip": null,
            "layout": "IPY_MODEL_81c0eb72d88a455fbd2e2abcac650aba",
            "placeholder": "​",
            "style": "IPY_MODEL_cfcc642fb1dc46b19098ddebdf275ef4",
            "value": "Epoch 6: 100%"
          }
        },
        "614bd64840a540db8c68a71c36989680": {
          "model_module": "@jupyter-widgets/controls",
          "model_name": "FloatProgressModel",
          "model_module_version": "1.5.0",
          "state": {
            "_dom_classes": [],
            "_model_module": "@jupyter-widgets/controls",
            "_model_module_version": "1.5.0",
            "_model_name": "FloatProgressModel",
            "_view_count": null,
            "_view_module": "@jupyter-widgets/controls",
            "_view_module_version": "1.5.0",
            "_view_name": "ProgressView",
            "bar_style": "success",
            "description": "",
            "description_tooltip": null,
            "layout": "IPY_MODEL_c13099cc6a8049a49f2f0ac6808141d1",
            "max": 185,
            "min": 0,
            "orientation": "horizontal",
            "style": "IPY_MODEL_4d6cacf76e8a453da6f3a938afa354b6",
            "value": 185
          }
        },
        "f4f87a1e08e64143aec773a0290b6459": {
          "model_module": "@jupyter-widgets/controls",
          "model_name": "HTMLModel",
          "model_module_version": "1.5.0",
          "state": {
            "_dom_classes": [],
            "_model_module": "@jupyter-widgets/controls",
            "_model_module_version": "1.5.0",
            "_model_name": "HTMLModel",
            "_view_count": null,
            "_view_module": "@jupyter-widgets/controls",
            "_view_module_version": "1.5.0",
            "_view_name": "HTMLView",
            "description": "",
            "description_tooltip": null,
            "layout": "IPY_MODEL_8e6c93b2c647428f9ccca7aafcf12e9a",
            "placeholder": "​",
            "style": "IPY_MODEL_1c94d8e4ba31446b9a7839a109db48b6",
            "value": " 185/185 [08:09&lt;00:00,  2.65s/it, loss=0.0368, v_num=0]"
          }
        },
        "d27b43588aad4de99f1f48f61ec49723": {
          "model_module": "@jupyter-widgets/base",
          "model_name": "LayoutModel",
          "model_module_version": "1.2.0",
          "state": {
            "_model_module": "@jupyter-widgets/base",
            "_model_module_version": "1.2.0",
            "_model_name": "LayoutModel",
            "_view_count": null,
            "_view_module": "@jupyter-widgets/base",
            "_view_module_version": "1.2.0",
            "_view_name": "LayoutView",
            "align_content": null,
            "align_items": null,
            "align_self": null,
            "border": null,
            "bottom": null,
            "display": "inline-flex",
            "flex": null,
            "flex_flow": "row wrap",
            "grid_area": null,
            "grid_auto_columns": null,
            "grid_auto_flow": null,
            "grid_auto_rows": null,
            "grid_column": null,
            "grid_gap": null,
            "grid_row": null,
            "grid_template_areas": null,
            "grid_template_columns": null,
            "grid_template_rows": null,
            "height": null,
            "justify_content": null,
            "justify_items": null,
            "left": null,
            "margin": null,
            "max_height": null,
            "max_width": null,
            "min_height": null,
            "min_width": null,
            "object_fit": null,
            "object_position": null,
            "order": null,
            "overflow": null,
            "overflow_x": null,
            "overflow_y": null,
            "padding": null,
            "right": null,
            "top": null,
            "visibility": null,
            "width": "100%"
          }
        },
        "81c0eb72d88a455fbd2e2abcac650aba": {
          "model_module": "@jupyter-widgets/base",
          "model_name": "LayoutModel",
          "model_module_version": "1.2.0",
          "state": {
            "_model_module": "@jupyter-widgets/base",
            "_model_module_version": "1.2.0",
            "_model_name": "LayoutModel",
            "_view_count": null,
            "_view_module": "@jupyter-widgets/base",
            "_view_module_version": "1.2.0",
            "_view_name": "LayoutView",
            "align_content": null,
            "align_items": null,
            "align_self": null,
            "border": null,
            "bottom": null,
            "display": null,
            "flex": null,
            "flex_flow": null,
            "grid_area": null,
            "grid_auto_columns": null,
            "grid_auto_flow": null,
            "grid_auto_rows": null,
            "grid_column": null,
            "grid_gap": null,
            "grid_row": null,
            "grid_template_areas": null,
            "grid_template_columns": null,
            "grid_template_rows": null,
            "height": null,
            "justify_content": null,
            "justify_items": null,
            "left": null,
            "margin": null,
            "max_height": null,
            "max_width": null,
            "min_height": null,
            "min_width": null,
            "object_fit": null,
            "object_position": null,
            "order": null,
            "overflow": null,
            "overflow_x": null,
            "overflow_y": null,
            "padding": null,
            "right": null,
            "top": null,
            "visibility": null,
            "width": null
          }
        },
        "cfcc642fb1dc46b19098ddebdf275ef4": {
          "model_module": "@jupyter-widgets/controls",
          "model_name": "DescriptionStyleModel",
          "model_module_version": "1.5.0",
          "state": {
            "_model_module": "@jupyter-widgets/controls",
            "_model_module_version": "1.5.0",
            "_model_name": "DescriptionStyleModel",
            "_view_count": null,
            "_view_module": "@jupyter-widgets/base",
            "_view_module_version": "1.2.0",
            "_view_name": "StyleView",
            "description_width": ""
          }
        },
        "c13099cc6a8049a49f2f0ac6808141d1": {
          "model_module": "@jupyter-widgets/base",
          "model_name": "LayoutModel",
          "model_module_version": "1.2.0",
          "state": {
            "_model_module": "@jupyter-widgets/base",
            "_model_module_version": "1.2.0",
            "_model_name": "LayoutModel",
            "_view_count": null,
            "_view_module": "@jupyter-widgets/base",
            "_view_module_version": "1.2.0",
            "_view_name": "LayoutView",
            "align_content": null,
            "align_items": null,
            "align_self": null,
            "border": null,
            "bottom": null,
            "display": null,
            "flex": "2",
            "flex_flow": null,
            "grid_area": null,
            "grid_auto_columns": null,
            "grid_auto_flow": null,
            "grid_auto_rows": null,
            "grid_column": null,
            "grid_gap": null,
            "grid_row": null,
            "grid_template_areas": null,
            "grid_template_columns": null,
            "grid_template_rows": null,
            "height": null,
            "justify_content": null,
            "justify_items": null,
            "left": null,
            "margin": null,
            "max_height": null,
            "max_width": null,
            "min_height": null,
            "min_width": null,
            "object_fit": null,
            "object_position": null,
            "order": null,
            "overflow": null,
            "overflow_x": null,
            "overflow_y": null,
            "padding": null,
            "right": null,
            "top": null,
            "visibility": null,
            "width": null
          }
        },
        "4d6cacf76e8a453da6f3a938afa354b6": {
          "model_module": "@jupyter-widgets/controls",
          "model_name": "ProgressStyleModel",
          "model_module_version": "1.5.0",
          "state": {
            "_model_module": "@jupyter-widgets/controls",
            "_model_module_version": "1.5.0",
            "_model_name": "ProgressStyleModel",
            "_view_count": null,
            "_view_module": "@jupyter-widgets/base",
            "_view_module_version": "1.2.0",
            "_view_name": "StyleView",
            "bar_color": null,
            "description_width": ""
          }
        },
        "8e6c93b2c647428f9ccca7aafcf12e9a": {
          "model_module": "@jupyter-widgets/base",
          "model_name": "LayoutModel",
          "model_module_version": "1.2.0",
          "state": {
            "_model_module": "@jupyter-widgets/base",
            "_model_module_version": "1.2.0",
            "_model_name": "LayoutModel",
            "_view_count": null,
            "_view_module": "@jupyter-widgets/base",
            "_view_module_version": "1.2.0",
            "_view_name": "LayoutView",
            "align_content": null,
            "align_items": null,
            "align_self": null,
            "border": null,
            "bottom": null,
            "display": null,
            "flex": null,
            "flex_flow": null,
            "grid_area": null,
            "grid_auto_columns": null,
            "grid_auto_flow": null,
            "grid_auto_rows": null,
            "grid_column": null,
            "grid_gap": null,
            "grid_row": null,
            "grid_template_areas": null,
            "grid_template_columns": null,
            "grid_template_rows": null,
            "height": null,
            "justify_content": null,
            "justify_items": null,
            "left": null,
            "margin": null,
            "max_height": null,
            "max_width": null,
            "min_height": null,
            "min_width": null,
            "object_fit": null,
            "object_position": null,
            "order": null,
            "overflow": null,
            "overflow_x": null,
            "overflow_y": null,
            "padding": null,
            "right": null,
            "top": null,
            "visibility": null,
            "width": null
          }
        },
        "1c94d8e4ba31446b9a7839a109db48b6": {
          "model_module": "@jupyter-widgets/controls",
          "model_name": "DescriptionStyleModel",
          "model_module_version": "1.5.0",
          "state": {
            "_model_module": "@jupyter-widgets/controls",
            "_model_module_version": "1.5.0",
            "_model_name": "DescriptionStyleModel",
            "_view_count": null,
            "_view_module": "@jupyter-widgets/base",
            "_view_module_version": "1.2.0",
            "_view_name": "StyleView",
            "description_width": ""
          }
        },
        "3e51be247938493189848afd278557ec": {
          "model_module": "@jupyter-widgets/controls",
          "model_name": "HBoxModel",
          "model_module_version": "1.5.0",
          "state": {
            "_dom_classes": [],
            "_model_module": "@jupyter-widgets/controls",
            "_model_module_version": "1.5.0",
            "_model_name": "HBoxModel",
            "_view_count": null,
            "_view_module": "@jupyter-widgets/controls",
            "_view_module_version": "1.5.0",
            "_view_name": "HBoxView",
            "box_style": "",
            "children": [
              "IPY_MODEL_ad96e5ae5c8f4990ae326df1b78b4983",
              "IPY_MODEL_7853f6405f4a46b0ad411b873a7abb6a",
              "IPY_MODEL_82aeed09504f43779de8939badb05964"
            ],
            "layout": "IPY_MODEL_1ab5f18c2d894a55854e46114c6147ba"
          }
        },
        "ad96e5ae5c8f4990ae326df1b78b4983": {
          "model_module": "@jupyter-widgets/controls",
          "model_name": "HTMLModel",
          "model_module_version": "1.5.0",
          "state": {
            "_dom_classes": [],
            "_model_module": "@jupyter-widgets/controls",
            "_model_module_version": "1.5.0",
            "_model_name": "HTMLModel",
            "_view_count": null,
            "_view_module": "@jupyter-widgets/controls",
            "_view_module_version": "1.5.0",
            "_view_name": "HTMLView",
            "description": "",
            "description_tooltip": null,
            "layout": "IPY_MODEL_5450ffb8959e41b1baf180bbd86c7510",
            "placeholder": "​",
            "style": "IPY_MODEL_21036016f73143e2881b85e2e8087698",
            "value": "Validation DataLoader 0: 100%"
          }
        },
        "7853f6405f4a46b0ad411b873a7abb6a": {
          "model_module": "@jupyter-widgets/controls",
          "model_name": "FloatProgressModel",
          "model_module_version": "1.5.0",
          "state": {
            "_dom_classes": [],
            "_model_module": "@jupyter-widgets/controls",
            "_model_module_version": "1.5.0",
            "_model_name": "FloatProgressModel",
            "_view_count": null,
            "_view_module": "@jupyter-widgets/controls",
            "_view_module_version": "1.5.0",
            "_view_name": "ProgressView",
            "bar_style": "success",
            "description": "",
            "description_tooltip": null,
            "layout": "IPY_MODEL_e922c72d430c446aa81ab59ec0446f05",
            "max": 356,
            "min": 0,
            "orientation": "horizontal",
            "style": "IPY_MODEL_31eb5ce7754446a787e466be2b0266a8",
            "value": 356
          }
        },
        "82aeed09504f43779de8939badb05964": {
          "model_module": "@jupyter-widgets/controls",
          "model_name": "HTMLModel",
          "model_module_version": "1.5.0",
          "state": {
            "_dom_classes": [],
            "_model_module": "@jupyter-widgets/controls",
            "_model_module_version": "1.5.0",
            "_model_name": "HTMLModel",
            "_view_count": null,
            "_view_module": "@jupyter-widgets/controls",
            "_view_module_version": "1.5.0",
            "_view_name": "HTMLView",
            "description": "",
            "description_tooltip": null,
            "layout": "IPY_MODEL_71c93ee2ca154d009f429dad0449c11c",
            "placeholder": "​",
            "style": "IPY_MODEL_39991b8ac19d48028dcac0c0592df803",
            "value": " 356/356 [11:00&lt;00:00,  1.86s/it]"
          }
        },
        "1ab5f18c2d894a55854e46114c6147ba": {
          "model_module": "@jupyter-widgets/base",
          "model_name": "LayoutModel",
          "model_module_version": "1.2.0",
          "state": {
            "_model_module": "@jupyter-widgets/base",
            "_model_module_version": "1.2.0",
            "_model_name": "LayoutModel",
            "_view_count": null,
            "_view_module": "@jupyter-widgets/base",
            "_view_module_version": "1.2.0",
            "_view_name": "LayoutView",
            "align_content": null,
            "align_items": null,
            "align_self": null,
            "border": null,
            "bottom": null,
            "display": "inline-flex",
            "flex": null,
            "flex_flow": "row wrap",
            "grid_area": null,
            "grid_auto_columns": null,
            "grid_auto_flow": null,
            "grid_auto_rows": null,
            "grid_column": null,
            "grid_gap": null,
            "grid_row": null,
            "grid_template_areas": null,
            "grid_template_columns": null,
            "grid_template_rows": null,
            "height": null,
            "justify_content": null,
            "justify_items": null,
            "left": null,
            "margin": null,
            "max_height": null,
            "max_width": null,
            "min_height": null,
            "min_width": null,
            "object_fit": null,
            "object_position": null,
            "order": null,
            "overflow": null,
            "overflow_x": null,
            "overflow_y": null,
            "padding": null,
            "right": null,
            "top": null,
            "visibility": null,
            "width": "100%"
          }
        },
        "5450ffb8959e41b1baf180bbd86c7510": {
          "model_module": "@jupyter-widgets/base",
          "model_name": "LayoutModel",
          "model_module_version": "1.2.0",
          "state": {
            "_model_module": "@jupyter-widgets/base",
            "_model_module_version": "1.2.0",
            "_model_name": "LayoutModel",
            "_view_count": null,
            "_view_module": "@jupyter-widgets/base",
            "_view_module_version": "1.2.0",
            "_view_name": "LayoutView",
            "align_content": null,
            "align_items": null,
            "align_self": null,
            "border": null,
            "bottom": null,
            "display": null,
            "flex": null,
            "flex_flow": null,
            "grid_area": null,
            "grid_auto_columns": null,
            "grid_auto_flow": null,
            "grid_auto_rows": null,
            "grid_column": null,
            "grid_gap": null,
            "grid_row": null,
            "grid_template_areas": null,
            "grid_template_columns": null,
            "grid_template_rows": null,
            "height": null,
            "justify_content": null,
            "justify_items": null,
            "left": null,
            "margin": null,
            "max_height": null,
            "max_width": null,
            "min_height": null,
            "min_width": null,
            "object_fit": null,
            "object_position": null,
            "order": null,
            "overflow": null,
            "overflow_x": null,
            "overflow_y": null,
            "padding": null,
            "right": null,
            "top": null,
            "visibility": null,
            "width": null
          }
        },
        "21036016f73143e2881b85e2e8087698": {
          "model_module": "@jupyter-widgets/controls",
          "model_name": "DescriptionStyleModel",
          "model_module_version": "1.5.0",
          "state": {
            "_model_module": "@jupyter-widgets/controls",
            "_model_module_version": "1.5.0",
            "_model_name": "DescriptionStyleModel",
            "_view_count": null,
            "_view_module": "@jupyter-widgets/base",
            "_view_module_version": "1.2.0",
            "_view_name": "StyleView",
            "description_width": ""
          }
        },
        "e922c72d430c446aa81ab59ec0446f05": {
          "model_module": "@jupyter-widgets/base",
          "model_name": "LayoutModel",
          "model_module_version": "1.2.0",
          "state": {
            "_model_module": "@jupyter-widgets/base",
            "_model_module_version": "1.2.0",
            "_model_name": "LayoutModel",
            "_view_count": null,
            "_view_module": "@jupyter-widgets/base",
            "_view_module_version": "1.2.0",
            "_view_name": "LayoutView",
            "align_content": null,
            "align_items": null,
            "align_self": null,
            "border": null,
            "bottom": null,
            "display": null,
            "flex": "2",
            "flex_flow": null,
            "grid_area": null,
            "grid_auto_columns": null,
            "grid_auto_flow": null,
            "grid_auto_rows": null,
            "grid_column": null,
            "grid_gap": null,
            "grid_row": null,
            "grid_template_areas": null,
            "grid_template_columns": null,
            "grid_template_rows": null,
            "height": null,
            "justify_content": null,
            "justify_items": null,
            "left": null,
            "margin": null,
            "max_height": null,
            "max_width": null,
            "min_height": null,
            "min_width": null,
            "object_fit": null,
            "object_position": null,
            "order": null,
            "overflow": null,
            "overflow_x": null,
            "overflow_y": null,
            "padding": null,
            "right": null,
            "top": null,
            "visibility": null,
            "width": null
          }
        },
        "31eb5ce7754446a787e466be2b0266a8": {
          "model_module": "@jupyter-widgets/controls",
          "model_name": "ProgressStyleModel",
          "model_module_version": "1.5.0",
          "state": {
            "_model_module": "@jupyter-widgets/controls",
            "_model_module_version": "1.5.0",
            "_model_name": "ProgressStyleModel",
            "_view_count": null,
            "_view_module": "@jupyter-widgets/base",
            "_view_module_version": "1.2.0",
            "_view_name": "StyleView",
            "bar_color": null,
            "description_width": ""
          }
        },
        "71c93ee2ca154d009f429dad0449c11c": {
          "model_module": "@jupyter-widgets/base",
          "model_name": "LayoutModel",
          "model_module_version": "1.2.0",
          "state": {
            "_model_module": "@jupyter-widgets/base",
            "_model_module_version": "1.2.0",
            "_model_name": "LayoutModel",
            "_view_count": null,
            "_view_module": "@jupyter-widgets/base",
            "_view_module_version": "1.2.0",
            "_view_name": "LayoutView",
            "align_content": null,
            "align_items": null,
            "align_self": null,
            "border": null,
            "bottom": null,
            "display": null,
            "flex": null,
            "flex_flow": null,
            "grid_area": null,
            "grid_auto_columns": null,
            "grid_auto_flow": null,
            "grid_auto_rows": null,
            "grid_column": null,
            "grid_gap": null,
            "grid_row": null,
            "grid_template_areas": null,
            "grid_template_columns": null,
            "grid_template_rows": null,
            "height": null,
            "justify_content": null,
            "justify_items": null,
            "left": null,
            "margin": null,
            "max_height": null,
            "max_width": null,
            "min_height": null,
            "min_width": null,
            "object_fit": null,
            "object_position": null,
            "order": null,
            "overflow": null,
            "overflow_x": null,
            "overflow_y": null,
            "padding": null,
            "right": null,
            "top": null,
            "visibility": null,
            "width": null
          }
        },
        "39991b8ac19d48028dcac0c0592df803": {
          "model_module": "@jupyter-widgets/controls",
          "model_name": "DescriptionStyleModel",
          "model_module_version": "1.5.0",
          "state": {
            "_model_module": "@jupyter-widgets/controls",
            "_model_module_version": "1.5.0",
            "_model_name": "DescriptionStyleModel",
            "_view_count": null,
            "_view_module": "@jupyter-widgets/base",
            "_view_module_version": "1.2.0",
            "_view_name": "StyleView",
            "description_width": ""
          }
        }
      }
    }
  },
  "cells": [
    {
      "cell_type": "markdown",
      "metadata": {
        "id": "view-in-github",
        "colab_type": "text"
      },
      "source": [
        "<a href=\"https://colab.research.google.com/github/Fillipe16/CV_ChestXR/blob/main/CV_LungSegmentation.ipynb\" target=\"_parent\"><img src=\"https://colab.research.google.com/assets/colab-badge.svg\" alt=\"Open In Colab\"/></a>"
      ]
    },
    {
      "cell_type": "code",
      "source": [
        "# Instalando dependencias faltantes\n",
        "!pip install segmentation_models_pytorch\n",
        "!pip install pytorch_lightning"
      ],
      "metadata": {
        "id": "sURBAxWJas3Z"
      },
      "execution_count": null,
      "outputs": []
    },
    {
      "cell_type": "code",
      "execution_count": 2,
      "metadata": {
        "id": "vbgLcjrsDenx"
      },
      "outputs": [],
      "source": [
        "# Blibiotecas para manipulação de dados\n",
        "import numpy as np\n",
        "from imutils import paths\n",
        "import torch\n",
        "import re\n",
        "from shutil import make_archive\n",
        "# Bibliotecas de visualização\n",
        "import matplotlib.pyplot as plt\n",
        "import PIL\n",
        "import cv2\n",
        "# Bibliotecas para seleção\n",
        "from sklearn.model_selection import train_test_split\n",
        "# Bibliotecas de modelos\n",
        "import segmentation_models_pytorch as sm\n",
        "import pytorch_lightning as pl\n",
        "\n",
        "from torchmetrics import Dice\n",
        "from torchvision import transforms\n"
      ]
    },
    {
      "cell_type": "markdown",
      "source": [
        "# 1-) Leitura e Preprocessamento dos dados"
      ],
      "metadata": {
        "id": "elj1ALO4Fa2M"
      }
    },
    {
      "cell_type": "code",
      "source": [
        "# Extraindo apenas os paths das imagens -- Montgomery Dataset\n",
        "path_montgomery = \"/content/drive/MyDrive/CV_COVID19/Data/MontgomerySet\"\n",
        "folders = ['/CXR_png','/ManualMask/leftMask','/ManualMask/rightMask']\n",
        "\n",
        "imgs_paths_01 = sorted(list(paths.list_images(path_montgomery+folders[0])))\n",
        "left_masks_paths_01 = sorted(list(paths.list_images(path_montgomery+folders[1])))\n",
        "right_masks_paths_01 = sorted(list(paths.list_images(path_montgomery+folders[2])))\n",
        "\n",
        "masks_paths_01 = [left+\" \"+right for left,right in zip(left_masks_paths_01,right_masks_paths_01)]\n"
      ],
      "metadata": {
        "id": "aESIiHC8kL9-"
      },
      "execution_count": 3,
      "outputs": []
    },
    {
      "cell_type": "code",
      "source": [
        "# Extraindo apenas os paths das imagens -- Dataset da China\n",
        "path_montgomery = \"/content/drive/MyDrive/CV_COVID19/Data/ChinaSet_AllFiles\"\n",
        "folders = ['/CXR_png','/ManualMask']\n",
        "\n",
        "imgs_paths_02 = sorted(list(paths.list_images(path_montgomery+folders[0])))\n",
        "masks_paths_02 = sorted(list(paths.list_images(path_montgomery+folders[1])))\n",
        "\n",
        "# Nem todas as imagens de Raio-X tem mask, necessário filtrar\n",
        "\n",
        "masks_numbers = [int(re.findall(\"\\d{4}\",p)[0]) for p in masks_paths_02] # Extraindo o numero de cada mask\n",
        "total_numbers = np.arange(1,663,1)\n",
        "flag_array = np.array([True if n in masks_numbers else False for n in total_numbers]) # Analisando se o numero da imagem e está no total de imagens\n",
        "imgs_paths_02_new = np.array(imgs_paths_02)[flag_array].tolist() # Filtrando as imagens\n"
      ],
      "metadata": {
        "id": "kyXsjOI3tfd4"
      },
      "execution_count": 4,
      "outputs": []
    },
    {
      "cell_type": "markdown",
      "source": [
        "### Data Augmentation"
      ],
      "metadata": {
        "id": "7t_IqKqdbRBg"
      }
    },
    {
      "cell_type": "code",
      "source": [
        "# Criação das funções de aumento de dados(transformações)\n",
        "# As imagens ja estão com 224px x 224px, a fim de poupar espaço de armazenamento\n",
        "def rotation(img,width,height,angle):\n",
        "  image_center = (int(width/2),int(height/2))\n",
        "\n",
        "  rot_mat = cv2.getRotationMatrix2D(image_center, angle, 1.0)\n",
        "\n",
        "  img = cv2.warpAffine(img, rot_mat, (int(width),int(height)))\n",
        "  img = cv2.resize(img,(224,224)) \n",
        "  return img\n",
        "\n",
        "def croping(img,width,height,factor=0.6):\n",
        "  alpha = factor**(1/2)\n",
        "  x = int((width/2)*(1-alpha))\n",
        "  y = int((height/2)*(1-alpha))\n",
        "\n",
        "  img = img[x:-x, y:-y]\n",
        "  img = cv2.resize(img,(224,224)) \n",
        "  return img\n"
      ],
      "metadata": {
        "id": "d-WGYCgxbQeg"
      },
      "execution_count": null,
      "outputs": []
    },
    {
      "cell_type": "code",
      "source": [
        "# Criando e salvando as imagens modificadas\n",
        "da_mask_path = \"/content/data_augmented/MASKS/\"\n",
        "da_rximg_path = \"/content/data_augmented/RXIMG/\"\n",
        "\n",
        "for i in range(len(imgs_paths_02_new)):\n",
        "  angle = np.random.randint(low=-45,high=45) # Selecionando, de forma aleatoria, um angulo para rotacionar cada par (raiox,mask)\n",
        "\n",
        "  # Augmentation nas imagens de Raio-X\n",
        "  img_path = imgs_paths_02_new[i]\n",
        "  img = cv2.imread(img_path,cv2.IMREAD_GRAYSCALE)\n",
        "  width_01 = img.shape[0]\n",
        "  height_01 = img.shape[1]\n",
        "\n",
        "  rx_rotated = rotation(img,width_01,height_01,angle)\n",
        "  rx_croped = croping(img,width_01,height_01)\n",
        "\n",
        "  name_mask = mask_path.split('/')[-1]\n",
        "  cv2.imwrite(da_mask_path+'rotated_'+name_mask, mask_rotated)\n",
        "  cv2.imwrite(da_mask_path+'croped_'+name_mask, mask_croped)\n",
        "\n",
        "  # Augmentation nas imagens das masks\n",
        "  mask_path = masks_paths_02[i]\n",
        "  mask = cv2.imread(mask_path,cv2.IMREAD_GRAYSCALE)\n",
        "  width_02 = mask.shape[0]\n",
        "  height_02 = mask.shape[1]\n",
        "\n",
        "  mask_rotated = rotation(mask,width_02,height_02,angle)\n",
        "  mask_croped = croping(mask,width_02,height_02)\n",
        "\n",
        "  name_rximg = img_path.split('/')[-1]\n",
        "  cv2.imwrite(da_rximg_path+'rotated_'+name_rximg, rx_rotated)\n",
        "  cv2.imwrite(da_rximg_path+'croped_'+name_rximg, rx_croped)"
      ],
      "metadata": {
        "id": "tmjuLKldn1Ey"
      },
      "execution_count": null,
      "outputs": []
    },
    {
      "cell_type": "code",
      "source": [
        "# Zipando a pasta \n",
        "make_archive(\"data_augmented\",\"zip\",\"/content/data_augmented\")"
      ],
      "metadata": {
        "colab": {
          "base_uri": "https://localhost:8080/",
          "height": 35
        },
        "id": "jgit4i9lrgcQ",
        "outputId": "550086b6-c212-42d6-8a35-d82bf55650c2"
      },
      "execution_count": null,
      "outputs": [
        {
          "output_type": "execute_result",
          "data": {
            "text/plain": [
              "'/content/data_augmented.zip'"
            ],
            "application/vnd.google.colaboratory.intrinsic+json": {
              "type": "string"
            }
          },
          "metadata": {},
          "execution_count": 57
        }
      ]
    },
    {
      "cell_type": "markdown",
      "source": [
        "### Criando o dataset pytorch"
      ],
      "metadata": {
        "id": "tgw2HKXf1drV"
      }
    },
    {
      "cell_type": "code",
      "source": [
        "# Extraindo apenas os paths das imagens -- Dataset augmented\n",
        "path_aug = \"/content/drive/MyDrive/CV_COVID19/Data/data_augmented\" \n",
        "folders = ['/RXIMG','/MASKS']\n",
        "\n",
        "imgs_paths_03 = sorted(list(paths.list_images(path_aug+folders[0])))\n",
        "masks_paths_03 = sorted(list(paths.list_images(path_aug+folders[1])))"
      ],
      "metadata": {
        "id": "eV3UDN2d0UZ1"
      },
      "execution_count": 5,
      "outputs": []
    },
    {
      "cell_type": "code",
      "source": [
        "# Unidos todos os dados extraidos\n",
        "\n",
        "imgs_paths = imgs_paths_01 + imgs_paths_02_new + imgs_paths_03\n",
        "masks_paths = masks_paths_01 + masks_paths_02 + masks_paths_03"
      ],
      "metadata": {
        "id": "tjlqC5grblzy"
      },
      "execution_count": 6,
      "outputs": []
    },
    {
      "cell_type": "code",
      "source": [
        "# Separação em Treino e Validação\n",
        "seed = 42\n",
        "X_train,X_val,y_train,y_val = train_test_split(imgs_paths,masks_paths,\n",
        "                                               train_size=1480,random_state = seed) # dataset de treino precisa ser multiplo do batch_size\n",
        "\n",
        "print(f'shape X_train: {len(X_train)}')\n",
        "print(f'shape y_train: {len(y_train)}')\n",
        "print(f'shape X_val: {len(X_val)}')\n",
        "print(f'shape y_val: {len(y_val)}')"
      ],
      "metadata": {
        "colab": {
          "base_uri": "https://localhost:8080/"
        },
        "id": "lvBXADcC0OOU",
        "outputId": "cdbd562e-d406-4fe7-f85c-9a042592922a"
      },
      "execution_count": 7,
      "outputs": [
        {
          "output_type": "stream",
          "name": "stdout",
          "text": [
            "shape X_train: 1480\n",
            "shape y_train: 1480\n",
            "shape X_val: 356\n",
            "shape y_val: 356\n"
          ]
        }
      ]
    },
    {
      "cell_type": "code",
      "source": [
        "# Definição da classe para criação do dataset pytorch personalidade\n",
        "# Utilização de transformações: Escala Cinza; Valor do pixel de 0 a 1; Transformção em Tensor; Resize em 224px x 224px\n",
        "class RXLungDataset(torch.utils.data.Dataset):\n",
        "    def __init__(self, imgs_paths, masks_paths,clahe,data_transforms=None):\n",
        "        self.imgs_paths = imgs_paths\n",
        "        self.masks_paths = masks_paths\n",
        "        self.transform = data_transforms\n",
        "        self.clahe = clahe\n",
        "    def __getitem__(self, index):\n",
        "        \n",
        "        imgpath = self.imgs_paths[index]\n",
        "\n",
        "        rx_image = cv2.imread(imgpath,cv2.IMREAD_GRAYSCALE)\n",
        "        rx_image = clahe.apply(rx_image)/255\n",
        "        if self.transform:\n",
        "          rx_image = self.transform(rx_image)\n",
        "\n",
        "        if(self.masks_paths):\n",
        "          unpack = self.masks_paths[index].split()\n",
        "          if(len(unpack)==2): # Máscaras do dataset do Montgomery apresentam os pulmões( direito e esquerdo ) em arquivos separadas\n",
        "            leftmask_path,rightmask_path = unpack\n",
        "    \n",
        "            left_mask = cv2.imread(leftmask_path,cv2.IMREAD_GRAYSCALE)/255\n",
        "            right_mask = cv2.imread(rightmask_path,cv2.IMREAD_GRAYSCALE)/255\n",
        "            mask = left_mask+right_mask # União das máscaras dos pulmoes em uma só imagem\n",
        "          else:\n",
        "            mask = cv2.imread(self.masks_paths[index],cv2.IMREAD_GRAYSCALE)/255\n",
        "\n",
        "          if self.transform:\n",
        "            mask = self.transform(mask)\n",
        "\n",
        "          sample = (rx_image, mask)\n",
        "          return sample\n",
        "        else:\n",
        "          return rx_image\n",
        "\n",
        "    def __len__(self):\n",
        "        return len(self.imgs_paths)\n",
        "\n",
        "width = height = 224\n",
        "data_transforms = transforms.Compose([transforms.ToTensor(),\n",
        "                                      transforms.Resize((width,height)),\n",
        "                                    ])\n",
        "clahe = cv2.createCLAHE(clipLimit=2.0, tileGridSize=(8,8))\n"
      ],
      "metadata": {
        "id": "ZeBfApyMlrkI"
      },
      "execution_count": 25,
      "outputs": []
    },
    {
      "cell_type": "code",
      "source": [
        "# Criação dos dataset de treino e validação\n",
        "train_dataset = RXLungDataset(X_train,y_train,clahe,data_transforms)\n",
        "val_dataset = RXLungDataset(X_val,y_val,clahe,data_transforms)\n",
        "\n",
        "batch_size = 8\n",
        "train_dataloader = torch.utils.data.DataLoader(train_dataset, batch_size=batch_size, shuffle=False)\n",
        "val_dataloader = torch.utils.data.DataLoader(val_dataset, batch_size=1, shuffle=False)"
      ],
      "metadata": {
        "id": "pztccfUxFDU_"
      },
      "execution_count": 16,
      "outputs": []
    },
    {
      "cell_type": "code",
      "source": [
        "# Visualização de alguns pares (x,y)\n",
        "for step, (x, y) in enumerate(train_dataset):\n",
        "  plt.subplot(1, 2, 1)\n",
        "  plt.imshow(x.detach().numpy().reshape((width,height)),cmap='gray')\n",
        "  plt.subplot(1, 2, 2)\n",
        "  plt.imshow(y.detach().numpy().reshape((width,height)),cmap='gray')\n",
        "  plt.show()\n",
        "  if(step==5):\n",
        "    break"
      ],
      "metadata": {
        "colab": {
          "base_uri": "https://localhost:8080/",
          "height": 1000
        },
        "id": "NYVXpt0RpeKn",
        "outputId": "d67eefae-d7e9-43d6-fdc7-c6a1126678a2"
      },
      "execution_count": null,
      "outputs": [
        {
          "output_type": "display_data",
          "data": {
            "text/plain": [
              "<Figure size 432x288 with 2 Axes>"
            ],
            "image/png": "[encoded data removed]"
          },
          "metadata": {
            "needs_background": "light"
          }
        },
        {
          "output_type": "display_data",
          "data": {
            "text/plain": [
              "<Figure size 432x288 with 2 Axes>"
            ],
            "image/png": "[encoded data removed]"
          },
          "metadata": {
            "needs_background": "light"
          }
        },
        {
          "output_type": "display_data",
          "data": {
            "text/plain": [
              "<Figure size 432x288 with 2 Axes>"
            ],
            "image/png": "[encoded data removed]"
          },
          "metadata": {
            "needs_background": "light"
          }
        },
        {
          "output_type": "display_data",
          "data": {
            "text/plain": [
              "<Figure size 432x288 with 2 Axes>"
            ],
            "image/png": "[encoded data removed]"
          },
          "metadata": {
            "needs_background": "light"
          }
        },
        {
          "output_type": "display_data",
          "data": {
            "text/plain": [
              "<Figure size 432x288 with 2 Axes>"
            ],
            "image/png": "[encoded data removed]"
          },
          "metadata": {
            "needs_background": "light"
          }
        },
        {
          "output_type": "display_data",
          "data": {
            "text/plain": [
              "<Figure size 432x288 with 2 Axes>"
            ],
            "image/png": "[encoded data removed]"
          },
          "metadata": {
            "needs_background": "light"
          }
        }
      ]
    },
    {
      "cell_type": "markdown",
      "source": [
        "# 2-) Modelo"
      ],
      "metadata": {
        "id": "v6ywa2AeczHE"
      }
    },
    {
      "cell_type": "code",
      "source": [
        "# Criação da classe para o modelo personalizado utilizando o framework Lightning torch\n",
        "class LungModel(pl.LightningModule):\n",
        "    def __init__(self,arch, encoder_name, in_channels, out_classes,batch_size):\n",
        "        super().__init__()\n",
        "        # Importação do modelo com encode ja pretreinado\n",
        "        self.model = sm.create_model(\n",
        "            arch, encoder_name=encoder_name, in_channels=in_channels, classes=out_classes)\n",
        "        \n",
        "        self.in_channels = in_channels\n",
        "        self.batch_size = batch_size\n",
        "        self.loss_fn = sm.losses.DiceLoss(sm.losses.BINARY_MODE, from_logits=True)\n",
        "\n",
        "    def forward(self, image):\n",
        "        return self.model(image)\n",
        "\n",
        "    def shared_step(self, batch, stage):\n",
        "        image,mask = batch\n",
        "\n",
        "        image = image.unsqueeze(0) \n",
        "        mask = mask.unsqueeze(0)\n",
        "\n",
        "        image = torch.reshape(image,[self.batch_size, self.in_channels, 224, 224])\n",
        "        mask = torch.reshape(mask,[self.batch_size, self.in_channels, 224, 224])\n",
        "\n",
        "        y_hat = self.forward(image)\n",
        "\n",
        "        loss = self.loss_fn(y_hat, mask)\n",
        "\n",
        "        # Utilização da função sigmoid para os valores ficar entre 0 e 1\n",
        "        prob_mask = y_hat.sigmoid() \n",
        "        # Toda predição abaixo de 0.5(50%) é dada como fora dos pulmões, o contrario ocorre para aquelas acima de 0.5\n",
        "        pred_mask = (prob_mask > 0.5) \n",
        "\n",
        "        tp, fp, fn, tn = sm.metrics.get_stats(pred_mask.long(), mask.long(), mode=\"binary\")\n",
        "\n",
        "        return {\n",
        "            \"loss\": loss,\n",
        "            \"tp\": tp,\n",
        "            \"fp\": fp,\n",
        "            \"fn\": fn,\n",
        "            \"tn\": tn,\n",
        "        }\n",
        "    def shared_epoch_end(self, outputs, stage):\n",
        "        # Criação de métrica de avaliação\n",
        "        tp = torch.cat([x[\"tp\"] for x in outputs])\n",
        "        fp = torch.cat([x[\"fp\"] for x in outputs])\n",
        "        fn = torch.cat([x[\"fn\"] for x in outputs])\n",
        "        tn = torch.cat([x[\"tn\"] for x in outputs])\n",
        "\n",
        "     \n",
        "        per_image_iou = sm.metrics.iou_score(tp, fp, fn, tn, reduction=\"micro-imagewise\")\n",
        "        \n",
        "        dataset_iou = sm.metrics.iou_score(tp, fp, fn, tn, reduction=\"micro\")\n",
        "\n",
        "        metrics = {\n",
        "            f\"{stage}_per_image_iou\": per_image_iou,\n",
        "            f\"{stage}_dataset_iou\": dataset_iou,\n",
        "        }\n",
        "        \n",
        "        self.log_dict(metrics, prog_bar=True)\n",
        "\n",
        "    def training_step(self, batch, batch_idx):\n",
        "        return self.shared_step(batch, \"train\") \n",
        "\n",
        "    def validation_step(self, batch, batch_idx):\n",
        "        return self.shared_step(batch, \"valid\")\n",
        "\n",
        "    def validation_epoch_end(self, outputs):\n",
        "        return self.shared_epoch_end(outputs, \"train\")\n",
        "\n",
        "    def validation_epoch_end(self, outputs):\n",
        "        return self.shared_epoch_end(outputs, \"valid\")\n",
        "\n",
        "    def predict_step(self, batch, batch_idx, dataloader_idx=0):\n",
        "        return self(batch)\n",
        "\n",
        "    def configure_optimizers(self):\n",
        "        return torch.optim.Adam(self.parameters(), lr=0.0001)"
      ],
      "metadata": {
        "id": "35UPWLE_5PaP"
      },
      "execution_count": 10,
      "outputs": []
    },
    {
      "cell_type": "code",
      "source": [
        "# Instaciamento do modelo, definindo arquitetura e backbone\n",
        "model = LungModel(\"Unet\",\"resnet34\",1,1,batch_size)\n",
        "model = model.double()"
      ],
      "metadata": {
        "id": "DKZaL9Z4RzAd",
        "colab": {
          "base_uri": "https://localhost:8080/",
          "height": 86,
          "referenced_widgets": [
            "9c4a3b5aa748473ca48a3ac840eb0846",
            "de8ae2583e16487aa6884e667d24fdf6",
            "940adcc9b2794ad3ba01e6ca69fee162",
            "022b643705154648a65851f0b4565f21",
            "89b839aa348a425283d51cdccf9a6222",
            "bc473ca5666c4e7c9b4fb160f223dc42",
            "0b86bd3912424a098470986d23c4a52e",
            "28dc2b0f30e04fe0bcd2b14d003257f9",
            "4b0d586b45434df09654730a454b75b5",
            "6f8462745b624ed0b2ca8866e1929805",
            "0b3628803d7947f79f0ddb4d4213a13d"
          ]
        },
        "outputId": "4e6909d2-639a-4c2e-c453-aad331ed83a2"
      },
      "execution_count": null,
      "outputs": [
        {
          "output_type": "stream",
          "name": "stderr",
          "text": [
            "Downloading: \"https://download.pytorch.org/models/resnet34-333f7ec4.pth\" to /root/.cache/torch/hub/checkpoints/resnet34-333f7ec4.pth\n"
          ]
        },
        {
          "output_type": "display_data",
          "data": {
            "text/plain": [
              "  0%|          | 0.00/83.3M [00:00<?, ?B/s]"
            ],
            "application/vnd.jupyter.widget-view+json": {
              "version_major": 2,
              "version_minor": 0,
              "model_id": "9c4a3b5aa748473ca48a3ac840eb0846"
            }
          },
          "metadata": {}
        }
      ]
    },
    {
      "cell_type": "code",
      "source": [
        "# Criação do objeto de treino\n",
        "trainer = pl.Trainer(\n",
        "    gpus=1,\n",
        "    max_epochs=7\n",
        ")"
      ],
      "metadata": {
        "colab": {
          "base_uri": "https://localhost:8080/"
        },
        "id": "8jP9HjfO8xAQ",
        "outputId": "a3d1aa17-5dbc-4c2d-bdeb-6e31048cbbc3"
      },
      "execution_count": null,
      "outputs": [
        {
          "output_type": "stream",
          "name": "stderr",
          "text": [
            "/usr/local/lib/python3.8/dist-packages/pytorch_lightning/trainer/connectors/accelerator_connector.py:467: LightningDeprecationWarning: Setting `Trainer(gpus=1)` is deprecated in v1.7 and will be removed in v2.0. Please use `Trainer(accelerator='gpu', devices=1)` instead.\n",
            "  rank_zero_deprecation(\n",
            "INFO:pytorch_lightning.utilities.rank_zero:GPU available: True (cuda), used: True\n",
            "INFO:pytorch_lightning.utilities.rank_zero:TPU available: False, using: 0 TPU cores\n",
            "INFO:pytorch_lightning.utilities.rank_zero:IPU available: False, using: 0 IPUs\n",
            "INFO:pytorch_lightning.utilities.rank_zero:HPU available: False, using: 0 HPUs\n"
          ]
        }
      ]
    },
    {
      "cell_type": "code",
      "source": [
        "# Finetuning o modelo\n",
        "trainer.fit(\n",
        "    model, \n",
        "    train_dataloaders=train_dataloader,\n",
        ")"
      ],
      "metadata": {
        "colab": {
          "base_uri": "https://localhost:8080/",
          "height": 312,
          "referenced_widgets": [
            "7f978218f6da4287be10edecb7f3894e",
            "565314a149c44f4bb716eaa0e91256a9",
            "614bd64840a540db8c68a71c36989680",
            "f4f87a1e08e64143aec773a0290b6459",
            "d27b43588aad4de99f1f48f61ec49723",
            "81c0eb72d88a455fbd2e2abcac650aba",
            "cfcc642fb1dc46b19098ddebdf275ef4",
            "c13099cc6a8049a49f2f0ac6808141d1",
            "4d6cacf76e8a453da6f3a938afa354b6",
            "8e6c93b2c647428f9ccca7aafcf12e9a",
            "1c94d8e4ba31446b9a7839a109db48b6"
          ]
        },
        "id": "grEqkESNZuGh",
        "outputId": "0708288e-d70a-4c8c-bf82-f873ecbaab14"
      },
      "execution_count": null,
      "outputs": [
        {
          "output_type": "stream",
          "name": "stderr",
          "text": [
            "/usr/local/lib/python3.8/dist-packages/pytorch_lightning/trainer/configuration_validator.py:108: PossibleUserWarning: You defined a `validation_step` but have no `val_dataloader`. Skipping val loop.\n",
            "  rank_zero_warn(\n",
            "INFO:pytorch_lightning.accelerators.cuda:LOCAL_RANK: 0 - CUDA_VISIBLE_DEVICES: [0]\n",
            "INFO:pytorch_lightning.callbacks.model_summary:\n",
            "  | Name    | Type     | Params\n",
            "-------------------------------------\n",
            "0 | model   | Unet     | 24.4 M\n",
            "1 | loss_fn | DiceLoss | 0     \n",
            "-------------------------------------\n",
            "24.4 M    Trainable params\n",
            "0         Non-trainable params\n",
            "24.4 M    Total params\n",
            "97.720    Total estimated model params size (MB)\n"
          ]
        },
        {
          "output_type": "display_data",
          "data": {
            "text/plain": [
              "Training: 0it [00:00, ?it/s]"
            ],
            "application/vnd.jupyter.widget-view+json": {
              "version_major": 2,
              "version_minor": 0,
              "model_id": "7f978218f6da4287be10edecb7f3894e"
            }
          },
          "metadata": {}
        },
        {
          "output_type": "stream",
          "name": "stderr",
          "text": [
            "INFO:pytorch_lightning.utilities.rank_zero:`Trainer.fit` stopped: `max_epochs=7` reached.\n"
          ]
        }
      ]
    },
    {
      "cell_type": "code",
      "source": [
        "model_path = \"/content/drive/MyDrive/CV_COVID19\" + \"/UnetResNet_lungSegmentation_2\""
      ],
      "metadata": {
        "id": "rrq1FYG_RQQ2"
      },
      "execution_count": 8,
      "outputs": []
    },
    {
      "cell_type": "code",
      "source": [
        "torch.save(model.state_dict(), model_path)"
      ],
      "metadata": {
        "id": "iMBp3qaKMgau"
      },
      "execution_count": null,
      "outputs": []
    },
    {
      "cell_type": "markdown",
      "source": [
        "# 3-) Avaliação"
      ],
      "metadata": {
        "id": "_2k9iQPHQ2CE"
      }
    },
    {
      "cell_type": "code",
      "source": [
        "# Importação do modelo finetuned\n",
        "model = LungModel(\"Unet\",\"resnet34\",1,1,1)\n",
        "model.load_state_dict(torch.load(model_path))\n",
        "model.double()"
      ],
      "metadata": {
        "id": "0slqjBnZRBxI"
      },
      "execution_count": null,
      "outputs": []
    },
    {
      "cell_type": "code",
      "source": [
        "trainer = pl.Trainer(\n",
        "    max_epochs=5\n",
        ")"
      ],
      "metadata": {
        "colab": {
          "base_uri": "https://localhost:8080/"
        },
        "id": "guSUNKZygHUM",
        "outputId": "8c75c4b5-3fc0-4e6e-92b7-a4194f0e3148"
      },
      "execution_count": 12,
      "outputs": [
        {
          "output_type": "stream",
          "name": "stderr",
          "text": [
            "/usr/local/lib/python3.8/dist-packages/torch/cuda/__init__.py:497: UserWarning: Can't initialize NVML\n",
            "  warnings.warn(\"Can't initialize NVML\")\n",
            "INFO:pytorch_lightning.utilities.rank_zero:GPU available: False, used: False\n",
            "INFO:pytorch_lightning.utilities.rank_zero:TPU available: False, using: 0 TPU cores\n",
            "INFO:pytorch_lightning.utilities.rank_zero:IPU available: False, using: 0 IPUs\n",
            "INFO:pytorch_lightning.utilities.rank_zero:HPU available: False, using: 0 HPUs\n"
          ]
        }
      ]
    },
    {
      "cell_type": "code",
      "source": [
        "# Avaliação do modelo\n",
        "valid_metrics = trainer.validate(model, dataloaders=val_dataloader, verbose=False)\n",
        "print(valid_metrics)"
      ],
      "metadata": {
        "colab": {
          "base_uri": "https://localhost:8080/",
          "height": 84,
          "referenced_widgets": [
            "3e51be247938493189848afd278557ec",
            "ad96e5ae5c8f4990ae326df1b78b4983",
            "7853f6405f4a46b0ad411b873a7abb6a",
            "82aeed09504f43779de8939badb05964",
            "1ab5f18c2d894a55854e46114c6147ba",
            "5450ffb8959e41b1baf180bbd86c7510",
            "21036016f73143e2881b85e2e8087698",
            "e922c72d430c446aa81ab59ec0446f05",
            "31eb5ce7754446a787e466be2b0266a8",
            "71c93ee2ca154d009f429dad0449c11c",
            "39991b8ac19d48028dcac0c0592df803"
          ]
        },
        "id": "-qn63fF-NK6Z",
        "outputId": "7f56a70f-d545-4866-8b2f-0b164855f26e"
      },
      "execution_count": 17,
      "outputs": [
        {
          "output_type": "stream",
          "name": "stderr",
          "text": [
            "WARNING:pytorch_lightning.loggers.tensorboard:Missing logger folder: /content/lightning_logs\n"
          ]
        },
        {
          "output_type": "display_data",
          "data": {
            "text/plain": [
              "Validation: 0it [00:00, ?it/s]"
            ],
            "application/vnd.jupyter.widget-view+json": {
              "version_major": 2,
              "version_minor": 0,
              "model_id": "3e51be247938493189848afd278557ec"
            }
          },
          "metadata": {}
        },
        {
          "output_type": "stream",
          "name": "stdout",
          "text": [
            "[{'valid_per_image_iou': 0.9241632223129272, 'valid_dataset_iou': 0.9238921999931335}]\n"
          ]
        }
      ]
    },
    {
      "cell_type": "markdown",
      "source": [
        "# 4-) Predição"
      ],
      "metadata": {
        "id": "U7NH3Bs8XIWD"
      }
    },
    {
      "cell_type": "code",
      "source": [
        "test_path = \"/content/drive/MyDrive/CV_COVID19/Data/Coronahack-Chest-XRay-Dataset/train\"\n",
        "test_image_paths = sorted(list(paths.list_images(test_path)))"
      ],
      "metadata": {
        "id": "f9otMd75n7OX"
      },
      "execution_count": null,
      "outputs": []
    },
    {
      "cell_type": "code",
      "source": [
        "test_dataset = RXLungDataset(test_image_paths,None,clahe,data_transforms)\n",
        "test_dataloader = torch.utils.data.DataLoader(test_dataset, batch_size=1, shuffle=False)"
      ],
      "metadata": {
        "id": "8jubFVsrFQ-V"
      },
      "execution_count": 26,
      "outputs": []
    },
    {
      "cell_type": "code",
      "source": [
        "lungs_test_path = \"/content/lungs/train/\"\n",
        "\n",
        "for step,x in enumerate(test_dataloader):\n",
        " \n",
        "  mask = model(x).sigmoid()\n",
        "  \n",
        "  mask = mask.detach().numpy().reshape((224,224))\n",
        "  image = x.detach().numpy().reshape((224,224))\n",
        "\n",
        "  mask[mask>=0.5] = 1\n",
        "  mask[mask<0.5] = 0\n",
        "  image[mask==0] = 0\n",
        "\n",
        "  lung = PIL.Image.fromarray(image)\n",
        "  lung = lung.convert('RGB')\n",
        "  name = test_image_paths[step].split('/')[-1]\n",
        "  lung.save(lungs_test_path+name)\n",
        "  if(step==2):\n",
        "    break\n"
      ],
      "metadata": {
        "id": "BmoPEnP0iM8U"
      },
      "execution_count": 53,
      "outputs": []
    }
  ]
}